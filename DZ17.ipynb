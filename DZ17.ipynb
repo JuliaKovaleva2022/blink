{
  "nbformat": 4,
  "nbformat_minor": 0,
  "metadata": {
    "colab": {
      "name": "DZ17.ipynb",
      "provenance": [],
      "authorship_tag": "ABX9TyOf0nsxRjiP+vSOYscYAXWK",
      "include_colab_link": true
    },
    "kernelspec": {
      "name": "python3",
      "display_name": "Python 3"
    },
    "language_info": {
      "name": "python"
    }
  },
  "cells": [
    {
      "cell_type": "markdown",
      "metadata": {
        "id": "view-in-github",
        "colab_type": "text"
      },
      "source": [
        "<a href=\"https://colab.research.google.com/github/JuliaKovaleva2022/blink/blob/master/DZ17.ipynb\" target=\"_parent\"><img src=\"https://colab.research.google.com/assets/colab-badge.svg\" alt=\"Open In Colab\"/></a>"
      ]
    },
    {
      "cell_type": "markdown",
      "source": [
        "Задание 1\n"
      ],
      "metadata": {
        "id": "f1de8xLGH_tB"
      }
    },
    {
      "cell_type": "code",
      "source": [
        "ids = {'user1': [213, 213, 213, 15, 213], \n",
        "       'user2': [54, 54, 119, 119, 119], \n",
        "       'user3': [213, 98, 98, 35]}\n",
        "lst = ids.values()\n",
        "newlist = []\n",
        "for i in lst:\n",
        "    for j in i:\n",
        "        newlist.append(j)\n",
        "print(set(newlist))\n"
      ],
      "metadata": {
        "colab": {
          "base_uri": "https://localhost:8080/"
        },
        "id": "F_dvCoJb9RAY",
        "outputId": "03ea2327-3f3d-4355-e874-c08d1f0f9d8a"
      },
      "execution_count": null,
      "outputs": [
        {
          "output_type": "stream",
          "name": "stdout",
          "text": [
            "{98, 35, 15, 213, 54, 119}\n"
          ]
        }
      ]
    },
    {
      "cell_type": "markdown",
      "source": [
        "Задание 2"
      ],
      "metadata": {
        "id": "eoHzPqy2IFCU"
      }
    },
    {
      "cell_type": "code",
      "source": [
        "queries = [\n",
        "    'смотреть сериалы онлайн',\n",
        "    'новости спорта',\n",
        "    'афиша кино',\n",
        "    'курс доллара',\n",
        "    'сериалы этим летом',\n",
        "    'курс по питону',\n",
        "    'сериалы про спорт',\n",
        "]\n",
        "m_dict = dict()\n",
        "for query in queries:\n",
        "    query_len = len(query.split(' '))\n",
        "    if query_len in m_dict:\n",
        "        m_dict[query_len] += 1\n",
        "    else:\n",
        "        m_dict[query_len] = 1\n",
        "queries_count = len(queries)\n",
        "for query_len, query_count in sorted(m_dict.items()):\n",
        "    print('Поисковых запросов, содержащих %d слов(а): %.2f%%' % (query_len, 100 * query_count / queries_count))\n",
        "\n",
        "# Поисковых запросов, содержащих 2 слов(а): 42.86%\n",
        "# Поисковых запросов, содержащих 3 слов(а): 57.14%"
      ],
      "metadata": {
        "id": "PD9fiO7N-OoY",
        "colab": {
          "base_uri": "https://localhost:8080/"
        },
        "outputId": "8bd720b5-bb76-4108-fa4a-1fc7ff3a6775"
      },
      "execution_count": 54,
      "outputs": [
        {
          "output_type": "stream",
          "name": "stdout",
          "text": [
            "Поисковых запросов, содержащих 2 слов(а): 42.86%\n",
            "Поисковых запросов, содержащих 3 слов(а): 57.14%\n"
          ]
        }
      ]
    },
    {
      "cell_type": "markdown",
      "source": [
        "Задание 3"
      ],
      "metadata": {
        "id": "C8QZnazWIRuj"
      }
    },
    {
      "cell_type": "code",
      "source": [
        "results = {\n",
        "    'vk': {'revenue': 103, 'cost': 98},\n",
        "    'yandex': {'revenue': 179, 'cost': 153},\n",
        "    'facebook': {'revenue': 103, 'cost': 110},\n",
        "    'adwords': {'revenue': 35, 'cost': 34},\n",
        "    'twitter': {'revenue': 11, 'cost': 24},\n",
        "}\n",
        "for i , value in results.items():\n",
        "    value['ROI'] = round(((value['revenue'] / value['cost']) - 1)*100 , 2)\n",
        "    print(i, value) \n",
        "\n",
        "# Необходимо дополнить исходную структуру показателем ROI, который рассчитаем по формуле: (revenue / cost - 1) * 100"
      ],
      "metadata": {
        "colab": {
          "base_uri": "https://localhost:8080/"
        },
        "id": "JMUg8JtwIUt8",
        "outputId": "f1f1bafc-b4ad-4388-a347-116f1930453b"
      },
      "execution_count": null,
      "outputs": [
        {
          "output_type": "stream",
          "name": "stdout",
          "text": [
            "vk {'revenue': 103, 'cost': 98, 'ROI': 5.1}\n",
            "yandex {'revenue': 179, 'cost': 153, 'ROI': 16.99}\n",
            "facebook {'revenue': 103, 'cost': 110, 'ROI': -6.36}\n",
            "adwords {'revenue': 35, 'cost': 34, 'ROI': 2.94}\n",
            "twitter {'revenue': 11, 'cost': 24, 'ROI': -54.17}\n"
          ]
        }
      ]
    },
    {
      "cell_type": "markdown",
      "source": [
        "Задание 4"
      ],
      "metadata": {
        "id": "_y-6qVoYINDA"
      }
    },
    {
      "cell_type": "code",
      "source": [
        "stats = {'facebook': 55, 'yandex': 115, 'vk': 120, 'google': 99, 'email': 42, 'ok': 98}\n",
        "max_val = max(stats.items(),key=lambda x: x[1])\n",
        "print ('Максимальный объем продаж на рекламном канале: ', max_val [0])\n",
        "\n",
        "#Максимальный объем продаж на рекламном канале: vk\n"
      ],
      "metadata": {
        "id": "4TX0O-PEC1D1",
        "colab": {
          "base_uri": "https://localhost:8080/"
        },
        "outputId": "16b79f73-f36e-4c0b-b042-c22515d44845"
      },
      "execution_count": null,
      "outputs": [
        {
          "output_type": "stream",
          "name": "stdout",
          "text": [
            "Максимальный объем продаж на рекламном канале:  vk\n"
          ]
        }
      ]
    }
  ]
}