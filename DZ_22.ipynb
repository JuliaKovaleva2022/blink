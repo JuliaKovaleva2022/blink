{
  "cells": [
    {
      "cell_type": "markdown",
      "metadata": {
        "id": "view-in-github",
        "colab_type": "text"
      },
      "source": [
        "<a href=\"https://colab.research.google.com/github/JuliaKovaleva2022/blink/blob/master/DZ_22.ipynb\" target=\"_parent\"><img src=\"https://colab.research.google.com/assets/colab-badge.svg\" alt=\"Open In Colab\"/></a>"
      ]
    },
    {
      "cell_type": "markdown",
      "id": "798308f4",
      "metadata": {
        "id": "798308f4"
      },
      "source": [
        "Задание 1"
      ]
    },
    {
      "cell_type": "code",
      "execution_count": null,
      "id": "56a6481a",
      "metadata": {
        "id": "56a6481a",
        "outputId": "30466d0d-bfc1-4859-987c-93c9db4b3970"
      },
      "outputs": [
        {
          "name": "stdout",
          "output_type": "stream",
          "text": [
            "Введите номер А222ВС96\n",
            "Результат: Номер А222ВС96 валиден. Регион: 96\n"
          ]
        }
      ],
      "source": [
        "import re\n",
        "\n",
        "regexp = re.compile(r'^[АВЕКМНОРСТУХ]\\d{3}[АВЕКМНОРСТУХ]{2}(?P<reg>\\d{2,3})$')\n",
        "car_id = input(\"Введите номер \")\n",
        "\n",
        "match = regexp.match(car_id)\n",
        "if match:\n",
        "    print(f\"Результат: Номер {car_id} валиден. Регион: {match['reg']}\")\n",
        "else:\n",
        "    print(f\"Результат: Номер {car_id} не валиден\")"
      ]
    },
    {
      "cell_type": "markdown",
      "id": "70b1ada9",
      "metadata": {
        "id": "70b1ada9"
      },
      "source": [
        "Задание 2"
      ]
    },
    {
      "cell_type": "code",
      "execution_count": null,
      "id": "a5140182",
      "metadata": {
        "id": "a5140182",
        "outputId": "7a0b7f38-9a42-4d97-eb9a-8a7284c9efde"
      },
      "outputs": [
        {
          "name": "stdout",
          "output_type": "stream",
          "text": [
            "Напишите функцию которая будет удалять все последовательные повторы слов из заданной строки при помощи регулярных выражений\n"
          ]
        }
      ],
      "source": [
        "import re\n",
        "some_string = \"Напишите функцию функцию, которая которая будет будет будет будет удалять все все все все последовательные повторы слов из из из из заданной строки строки при помощи регулярных выражений\"\n",
        "print( re.sub(r'\\b([^\\W\\d_]+)(\\s+\\1)+\\b', r'\\1', re.sub(r'\\W+', ' ', s).strip(), flags=re.I) )\n"
      ]
    },
    {
      "cell_type": "markdown",
      "id": "5db7153a",
      "metadata": {
        "id": "5db7153a"
      },
      "source": [
        "Задание 3"
      ]
    },
    {
      "cell_type": "code",
      "execution_count": null,
      "id": "d16dde44",
      "metadata": {
        "id": "d16dde44",
        "outputId": "90125065-5313-4b65-b17d-f0b8871738de"
      },
      "outputs": [
        {
          "name": "stdout",
          "output_type": "stream",
          "text": [
            "ИТ\n"
          ]
        }
      ],
      "source": [
        "import re\n",
        "some_words = 'Информационные Технологии'\n",
        "text = re.findall(r'[А-ЯЁ|A-Z]', some_words)\n",
        " \n",
        "print(''.join(text))"
      ]
    },
    {
      "cell_type": "markdown",
      "id": "7fcaec52",
      "metadata": {
        "id": "7fcaec52"
      },
      "source": [
        "Задание 3"
      ]
    },
    {
      "cell_type": "code",
      "execution_count": null,
      "id": "95d39c5c",
      "metadata": {
        "id": "95d39c5c",
        "outputId": "d3578fb3-2187-437f-ac74-a8b1ad7b9ac4"
      },
      "outputs": [
        {
          "name": "stdout",
          "output_type": "stream",
          "text": [
            "gmail.com: 2\n",
            "test.in: 1\n",
            "ya.ru: 2\n",
            "mail.ru: 1\n"
          ]
        }
      ],
      "source": [
        "emails = ['test@gmail.com', 'xyz@test.in', 'test@ya.ru', 'xyz@mail.ru', 'xyz@ya.ru', 'xyz@gmail.com']\n",
        "res = {}\n",
        "for i in emails:\n",
        "    a, b = i.split('@')\n",
        "    res[b] = res.get(b, 0) + 1\n",
        " \n",
        "print(*(f'{i}: {j}' for i, j in res.items()), sep='\\n')\n"
      ]
    },
    {
      "cell_type": "code",
      "execution_count": null,
      "id": "7d6f462b",
      "metadata": {
        "id": "7d6f462b"
      },
      "outputs": [],
      "source": [
        ""
      ]
    }
  ],
  "metadata": {
    "kernelspec": {
      "display_name": "Python 3 (ipykernel)",
      "language": "python",
      "name": "python3"
    },
    "language_info": {
      "codemirror_mode": {
        "name": "ipython",
        "version": 3
      },
      "file_extension": ".py",
      "mimetype": "text/x-python",
      "name": "python",
      "nbconvert_exporter": "python",
      "pygments_lexer": "ipython3",
      "version": "3.9.7"
    },
    "colab": {
      "name": "DZ_22.ipynb",
      "provenance": [],
      "include_colab_link": true
    }
  },
  "nbformat": 4,
  "nbformat_minor": 5
}