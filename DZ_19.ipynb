{
  "nbformat": 4,
  "nbformat_minor": 0,
  "metadata": {
    "colab": {
      "name": "DZ 19",
      "provenance": [],
      "collapsed_sections": [],
      "mount_file_id": "1jWGNTTEtIPnXIbquw2ptgjNWwwHMoS5O",
      "authorship_tag": "ABX9TyODTTQWmhTOGgxYYUyLQpoE",
      "include_colab_link": true
    },
    "kernelspec": {
      "name": "python3",
      "display_name": "Python 3"
    },
    "language_info": {
      "name": "python"
    }
  },
  "cells": [
    {
      "cell_type": "markdown",
      "metadata": {
        "id": "view-in-github",
        "colab_type": "text"
      },
      "source": [
        "<a href=\"https://colab.research.google.com/github/JuliaKovaleva2022/blink/blob/master/DZ_19.ipynb\" target=\"_parent\"><img src=\"https://colab.research.google.com/assets/colab-badge.svg\" alt=\"Open In Colab\"/></a>"
      ]
    },
    {
      "cell_type": "markdown",
      "source": [
        "Задание 1"
      ],
      "metadata": {
        "id": "GyqsQ6ekGCes"
      }
    },
    {
      "cell_type": "code",
      "execution_count": null,
      "metadata": {
        "id": "TWJdw2W3x7at"
      },
      "outputs": [],
      "source": [
        "f=open('purchase_log.txt','r',encoding='utf-8')\n"
      ]
    },
    {
      "cell_type": "code",
      "source": [
        "f"
      ],
      "metadata": {
        "colab": {
          "base_uri": "https://localhost:8080/"
        },
        "id": "PffpkaM13yVp",
        "outputId": "2fa5f95e-a35c-482e-e16a-f67a143a577e"
      },
      "execution_count": null,
      "outputs": [
        {
          "output_type": "execute_result",
          "data": {
            "text/plain": [
              "<_io.TextIOWrapper name='purchase_log.txt' mode='r' encoding='utf-8'>"
            ]
          },
          "metadata": {},
          "execution_count": 7
        }
      ]
    },
    {
      "cell_type": "code",
      "source": [
        "with open('purchase_log.txt') as f:\n",
        "    print([next(f) for x in range(5)])"
      ],
      "metadata": {
        "colab": {
          "base_uri": "https://localhost:8080/"
        },
        "id": "UjMo70654hR5",
        "outputId": "98c34332-7dfe-47ec-ec36-fe2c63ecf943"
      },
      "execution_count": null,
      "outputs": [
        {
          "output_type": "stream",
          "name": "stdout",
          "text": [
            "['{\"user_id\": \"user_id\", \"category\": \"category\"}\\n', '{\"user_id\": \"1840e0b9d4\", \"category\": \"Продукты\"}\\n', '{\"user_id\": \"4e4f90fcfb\", \"category\": \"Электроника\"}\\n', '{\"user_id\": \"afea8d72fc\", \"category\": \"Электроника\"}\\n', '{\"user_id\": \"373a6055fe\", \"category\": \"Бытовая техника\"}\\n']\n"
          ]
        }
      ]
    },
    {
      "cell_type": "code",
      "source": [
        "import json"
      ],
      "metadata": {
        "id": "omdc5Eq84oJl"
      },
      "execution_count": null,
      "outputs": []
    },
    {
      "cell_type": "code",
      "source": [
        "dict_in_string = '{\"a\": 1, \"b\": 2}'\n",
        "\n",
        "type(json.loads(dict_in_string))"
      ],
      "metadata": {
        "colab": {
          "base_uri": "https://localhost:8080/"
        },
        "id": "90Gd97Hx4q82",
        "outputId": "5b77c2c9-1f24-4ff2-f5f3-ec8caceeecb6"
      },
      "execution_count": null,
      "outputs": [
        {
          "output_type": "execute_result",
          "data": {
            "text/plain": [
              "dict"
            ]
          },
          "metadata": {},
          "execution_count": 13
        }
      ]
    },
    {
      "cell_type": "code",
      "source": [
        "json.loads(dict_in_string)"
      ],
      "metadata": {
        "colab": {
          "base_uri": "https://localhost:8080/"
        },
        "id": "DxbOAICn5Ohp",
        "outputId": "4dc8ab06-ce31-4838-f1df-e49dc6cd17f5"
      },
      "execution_count": null,
      "outputs": [
        {
          "output_type": "execute_result",
          "data": {
            "text/plain": [
              "{'a': 1, 'b': 2}"
            ]
          },
          "metadata": {},
          "execution_count": 14
        }
      ]
    },
    {
      "cell_type": "code",
      "execution_count": null,
      "metadata": {
        "id": "FIXp0uGO1tp-",
        "outputId": "1caa7565-db05-4f57-8c62-40cb5f2c25f0",
        "colab": {
          "base_uri": "https://localhost:8080/"
        }
      },
      "outputs": [
        {
          "output_type": "stream",
          "name": "stdout",
          "text": [
            "{'user_id': 'category', '1840e0b9d4': 'Продукты', '4e4f90fcfb': 'Электроника', 'afea8d72fc': 'Электроника', '373a6055fe': 'Бытовая техника', '9b2ab046f3': 'Электроника'}\n"
          ]
        }
      ],
      "source": [
        "i = 0\n",
        "dic={}\n",
        "with open('purchase_log.txt','r', encoding = 'utf-8') as f:\n",
        "     for line in f:\n",
        "        line = line.strip() \n",
        "        dict_ = json.loads(line) \n",
        "        key = dict_['user_id']\n",
        "        value = dict_['category']\n",
        "        dic[key]=value\n",
        "        i += 1\n",
        "        if i > 5:\n",
        "            break\n",
        "print (dic)"
      ]
    },
    {
      "cell_type": "markdown",
      "source": [
        "Задание 2\n"
      ],
      "metadata": {
        "id": "3ztDiflXF55W"
      }
    },
    {
      "cell_type": "code",
      "source": [
        "f=open('visit_log.csv','r',encoding='utf-8')"
      ],
      "metadata": {
        "id": "9Oq_yzdP8CCR"
      },
      "execution_count": null,
      "outputs": []
    },
    {
      "cell_type": "code",
      "source": [
        "with open('visit_log.csv') as f:\n",
        "    print([next(f) for x in range(5)])"
      ],
      "metadata": {
        "colab": {
          "base_uri": "https://localhost:8080/"
        },
        "id": "0vwAkHis9BND",
        "outputId": "b963f56d-2bbd-43bd-d583-204b100f81d0"
      },
      "execution_count": null,
      "outputs": [
        {
          "output_type": "stream",
          "name": "stdout",
          "text": [
            "['user_id,source\\n', '6450655ae8,other\\n', 'b4ea53e670,other\\n', '0e37347152,other\\n', '96064ae9e0,other\\n']\n"
          ]
        }
      ]
    }
  ]
}