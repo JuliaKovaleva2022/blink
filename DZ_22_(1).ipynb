{
  "cells": [
    {
      "cell_type": "markdown",
      "metadata": {
        "id": "view-in-github",
        "colab_type": "text"
      },
      "source": [
        "<a href=\"https://colab.research.google.com/github/JuliaKovaleva2022/blink/blob/master/DZ_22_(1).ipynb\" target=\"_parent\"><img src=\"https://colab.research.google.com/assets/colab-badge.svg\" alt=\"Open In Colab\"/></a>"
      ]
    },
    {
      "cell_type": "markdown",
      "id": "662c7b19",
      "metadata": {
        "id": "662c7b19"
      },
      "source": [
        "Задание 1"
      ]
    },
    {
      "cell_type": "code",
      "execution_count": null,
      "id": "8c45f3a1",
      "metadata": {
        "id": "8c45f3a1",
        "outputId": "f2ecc605-658c-4a42-efa4-e3fb8ed9f03a"
      },
      "outputs": [
        {
          "name": "stdout",
          "output_type": "stream",
          "text": [
            "Введите номер А223ЕЕ56\n",
            "Результат: Номер А223ЕЕ56 валиден. Регион: 56\n"
          ]
        }
      ],
      "source": [
        "import re\n",
        "\n",
        "regexp = re.compile(r'^[АВЕКМНОРСТУХ]\\d{3}[АВЕКМНОРСТУХ]{2}(?P<reg>\\d{2,3})$')\n",
        "car_id = input(\"Введите номер \")\n",
        "\n",
        "match = regexp.match(car_id)\n",
        "if match:\n",
        "    print(f\"Результат: Номер {car_id} валиден. Регион: {match['reg']}\")\n",
        "else:\n",
        "    print(f\"Результат: Номер {car_id} не валиден\")"
      ]
    },
    {
      "cell_type": "markdown",
      "id": "d0e3203e",
      "metadata": {
        "id": "d0e3203e"
      },
      "source": [
        "Задание 2"
      ]
    },
    {
      "cell_type": "code",
      "execution_count": null,
      "id": "b54b9a53",
      "metadata": {
        "id": "b54b9a53",
        "outputId": "e25ef3fd-beb6-4716-dbbc-a06eb341b58e"
      },
      "outputs": [
        {
          "name": "stdout",
          "output_type": "stream",
          "text": [
            "one two three five\n"
          ]
        }
      ],
      "source": [
        "import re\n",
        "s = \"one one two three five five\"\n",
        "print( re.sub(r'\\b([^\\W\\d_]+)(\\s+\\1)+\\b', r'\\1', re.sub(r'\\W+', ' ', s).strip(), flags=re.I) )\n"
      ]
    },
    {
      "cell_type": "markdown",
      "id": "1ec7b501",
      "metadata": {
        "id": "1ec7b501"
      },
      "source": [
        "Задание 3"
      ]
    },
    {
      "cell_type": "code",
      "execution_count": null,
      "id": "e5761243",
      "metadata": {
        "id": "e5761243",
        "outputId": "bf35f46a-f8f8-4460-f5d5-9dc78d56cc50"
      },
      "outputs": [
        {
          "name": "stdout",
          "output_type": "stream",
          "text": [
            "ИТБ\n"
          ]
        }
      ],
      "source": [
        "import re\n",
        "some_words = 'Информаионные Технологии Будущего'\n",
        "some_words_upper = some_words.upper()\n",
        "\n",
        "uppers = re.findall(r'\\b([A-ZА-Я])\\w+\\b', some_words_upper)\n",
        "print(''.join(uppers))"
      ]
    },
    {
      "cell_type": "markdown",
      "id": "27a06416",
      "metadata": {
        "id": "27a06416"
      },
      "source": [
        "Задание 4"
      ]
    },
    {
      "cell_type": "code",
      "execution_count": null,
      "id": "ee514e3a",
      "metadata": {
        "id": "ee514e3a",
        "outputId": "27b3e6d7-0b4b-46ca-e4f0-249ba85932f6"
      },
      "outputs": [
        {
          "name": "stdout",
          "output_type": "stream",
          "text": [
            "gmail.com: 2\n",
            "test.in: 1\n",
            "ya.ru: 2\n",
            "mail.ru: 1\n"
          ]
        }
      ],
      "source": [
        "emails = ['test@gmail.com', 'xyz@test.in', 'test@ya.ru', 'xyz@mail.ru', 'xyz@ya.ru', 'xyz@gmail.com']\n",
        "res = {}\n",
        "for i in emails:\n",
        "    a, b = i.split('@')\n",
        "    res[b] = res.get(b, 0) + 1\n",
        " \n",
        "print(*(f'{i}: {j}' for i, j in res.items()), sep='\\n')\n"
      ]
    }
  ],
  "metadata": {
    "kernelspec": {
      "display_name": "Python 3 (ipykernel)",
      "language": "python",
      "name": "python3"
    },
    "language_info": {
      "codemirror_mode": {
        "name": "ipython",
        "version": 3
      },
      "file_extension": ".py",
      "mimetype": "text/x-python",
      "name": "python",
      "nbconvert_exporter": "python",
      "pygments_lexer": "ipython3",
      "version": "3.9.7"
    },
    "colab": {
      "name": "DZ_22 (1).ipynb",
      "provenance": [],
      "include_colab_link": true
    }
  },
  "nbformat": 4,
  "nbformat_minor": 5
}