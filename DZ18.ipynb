{
  "nbformat": 4,
  "nbformat_minor": 0,
  "metadata": {
    "colab": {
      "name": "DZ18",
      "provenance": [],
      "collapsed_sections": [],
      "authorship_tag": "ABX9TyOovMpeMBTf/hCdBZyGHlsV",
      "include_colab_link": true
    },
    "kernelspec": {
      "name": "python3",
      "display_name": "Python 3"
    },
    "language_info": {
      "name": "python"
    }
  },
  "cells": [
    {
      "cell_type": "markdown",
      "metadata": {
        "id": "view-in-github",
        "colab_type": "text"
      },
      "source": [
        "<a href=\"https://colab.research.google.com/github/JuliaKovaleva2022/blink/blob/master/DZ18.ipynb\" target=\"_parent\"><img src=\"https://colab.research.google.com/assets/colab-badge.svg\" alt=\"Open In Colab\"/></a>"
      ]
    },
    {
      "cell_type": "code",
      "source": [
        "def get_name():\n",
        "    number = input('Введите номер документа ')\n",
        "    for data in documents:\n",
        "        if data.get('number') == number:\n",
        "            return data.get('name')\n",
        "    return 'Документ не найден в базе'\n",
        "def get_shelf():\n",
        "    number = input('Введите номер документа ')\n",
        "    for key in directories :\n",
        "        if number in directories.get(key):\n",
        "            return 'Документ хранится на полке: ', key\n",
        "    return 'Документ не найден в базе'\n",
        "\n",
        "def get_list():\n",
        "      for x in documents:\n",
        "          type = x['type']\n",
        "          number = x['number']\n",
        "          name = x['name']\n",
        "          print('№ {1}, тип: {0}, владелец: {2} '.format(type, number, name))\n",
        "\n",
        "def add_shelf():\n",
        "    shelf = input('Введите номер полки  ')\n",
        "    for direct in directories.items():\n",
        "        if shelf in direct[0]:\n",
        "          print (f'Такая полка уже существует. Текущий перечень полок: 1, 2, 3')\n",
        "          break\n",
        "    else:\n",
        "         directories[shelf]=[]\n",
        "         print (f'Полка добавлена. Текущий перечень полок: {list(directories.keys())}')\n",
        "\n",
        "def del_shelf(archive):\n",
        "    command = input('Введите команду: ')\n",
        "    if command == 'ds':\n",
        "     user_del_shelf = input('Введите номер полки: ')\n",
        "    import copy\n",
        "    copy_2_archive = copy.copy(archive) \n",
        "    if user_del_shelf not in copy_2_archive:\n",
        "        print('Такой полки не существует. Текущий перечень полок:', list(copy_2_archive))\n",
        "    elif copy_2_archive[user_del_shelf]:\n",
        "      print('На полке есть документы, удалите их перед удалением полки. Текущий перечень полок:', list(copy_2_archive)) \n",
        "    else:\n",
        "      del copy_2_archive[user_del_shelf]\n",
        "      print('Полка удалена. Текущий перечень полок:', list(copy_2_archive))\n",
        "del_shelf(directories)   \n",
        "\n",
        "documents = [\n",
        "        {'type': 'passport', 'number': '2207 876234', 'name': 'Василий Гупкин'},\n",
        "        {'type': 'invoice', 'number': '11-2', 'name': 'Геннадий Покемонов'},\n",
        "        {'type': 'insurance', 'number': '10006', 'name': 'Аристарх Павлов'}\n",
        "      ]\n",
        " \n",
        "directories = {\n",
        "        '1': ['2207 876234', '11-2'],\n",
        "        '2': ['10006'],\n",
        "        '3': []\n",
        "      }\n",
        " \n",
        "while True:\n",
        "    comand = input('Введите команду ')\n",
        " \n",
        "    if comand == 'p':\n",
        "        print(get_name())\n",
        "    elif comand == 's':\n",
        "        print(get_shelf())\n",
        "    elif comand == 'l':\n",
        "        print(get_list())\n",
        "    elif comand == 'ads':\n",
        "        print(add_shelf())    \n",
        "    elif comand == 'q':\n",
        "            break"
      ],
      "metadata": {
        "colab": {
          "base_uri": "https://localhost:8080/"
        },
        "id": "Z3OklBUDbqGK",
        "outputId": "5311833a-83e6-491b-ccc8-bc348c9c64d3"
      },
      "execution_count": 49,
      "outputs": [
        {
          "name": "stdout",
          "output_type": "stream",
          "text": [
            "Введите команду: ds\n",
            "Введите номер полки: 5\n",
            "Такой полки не существует. Текущий перечень полок: ['1', '2', '3']\n",
            "Введите команду q\n"
          ]
        }
      ]
    }
  ]
}